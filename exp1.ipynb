{
 "cells": [
  {
   "cell_type": "markdown",
   "id": "d0050e73",
   "metadata": {},
   "source": [
    "GNU\n",
    "\n",
    "at::get_num_threads() : 24\n",
    "at::get_num_interop_threads() : 24\n",
    "real    1m18.303s\n",
    "\n",
    "\n",
    "at::get_num_threads() : 1\n",
    "at::get_num_interop_threads() : 24\n",
    "real    7m23.603s\n",
    "\n",
    "at::get_num_threads() : 2\n",
    "at::get_num_interop_threads() : 24\n",
    "real    3m58.905s\n",
    "\n",
    "\n",
    "\n",
    "real    2m46.567s"
   ]
  }
 ],
 "metadata": {
  "language_info": {
   "name": "python"
  }
 },
 "nbformat": 4,
 "nbformat_minor": 5
}
